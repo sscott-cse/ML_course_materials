{
 "cells": [
  {
   "cell_type": "markdown",
   "metadata": {},
   "source": [
    "## Sequence Modeling with Hidden Markov Models\n",
    "In this homework, we will work on sequence data. CpG island detection is a well-known problem in bioinformatics. There are four bases in genomes, A, C, G, and T. In some genomic regions CG bases were observed to be  significantly more common than in other regions. These CG rich regions are called CpG islands. We will not use benchmark data with CpG information. Instead, we will use an HMM model to generate our own data by providing transition and emission probabilties. HMM is a distribution depicted by a graphical model, and it is a generative model. The following diagram shows a 2 state HMM. Emission probabilities are shown in rectangles, and transition probabilities are shown in edge labels. "
   ]
  },
  {
   "cell_type": "markdown",
   "metadata": {},
   "source": [
    "<img src=\"cpg.png\" alt=\"cpg\" style=\"width: 350px;\" align=\"left\"/>"
   ]
  },
  {
   "cell_type": "markdown",
   "metadata": {},
   "source": [
    "### Synthetic Sequence Generation\n",
    "\n",
    "We define a model and probabilities to generate our own sequence data. The probabilities we chose reflect this biological phenomenon. We will later see that our HMM sequence model will predict the location of CpG islands.\n"
   ]
  },
  {
   "cell_type": "code",
   "execution_count": null,
   "metadata": {
    "collapsed": true
   },
   "outputs": [],
   "source": [
    "from collections import namedtuple\n",
    "\n",
    "import numpy as np\n",
    "import pomegranate"
   ]
  },
  {
   "cell_type": "markdown",
   "metadata": {},
   "source": [
    "We define our generator model in [pomegranate](https://pomegranate.readthedocs.io/en/stable/HiddenMarkovModel.html) using the transition and emission probabilities in the figure."
   ]
  },
  {
   "cell_type": "code",
   "execution_count": null,
   "metadata": {
    "collapsed": true
   },
   "outputs": [],
   "source": [
    "def build_model(dist1, dist2, trans, name1, name2):\n",
    "    \"\"\"\n",
    "    Args:\n",
    "        dist1: pomegranate.DiscreteDistribution\n",
    "            Non island emission probabilities\n",
    "        dist2: pomegranate.DiscreteDistribution\n",
    "            CpG island emission probabilities\n",
    "        trans: collections.namedtuple\n",
    "            Transition probabilities\n",
    "        name1: str\n",
    "            State 1 name\n",
    "        name2: str\n",
    "            State 2 name\n",
    "    \"\"\"\n",
    "    s1 = pomegranate.State(dist1, name=name1)\n",
    "    s2 = pomegranate.State(dist2, name=name2)\n",
    "\n",
    "    start_s1, start_s2, s11, s12, s21, s22 = trans\n",
    "\n",
    "    # create HMM model\n",
    "    model = pomegranate.HiddenMarkovModel()\n",
    "    # add states\n",
    "    model.add_states(s1, s2)\n",
    "\n",
    "    # add transitions\n",
    "    model.add_transition(model.start, s1, start_s1)\n",
    "    model.add_transition(model.start, s2, start_s2)\n",
    "    model.add_transition(s1, s1, s11)\n",
    "    model.add_transition(s1, s2, s12)\n",
    "    model.add_transition(s2, s1, s21)\n",
    "    model.add_transition(s2, s2, s22)\n",
    "\n",
    "    model.bake()\n",
    "\n",
    "    return model\n",
    "\n",
    "\n",
    "non_island = pomegranate.DiscreteDistribution(\n",
    "    {\"A\": 0.25, \"C\": 0.25, \"T\": 0.25, \"G\": 0.25})\n",
    "island = pomegranate.DiscreteDistribution(\n",
    "    {\"A\": 0.10, \"C\": 0.40, \"T\": 0.10, \"G\": 0.40})\n",
    "\n",
    "trans = {\"start_s1\": 0.5, \"start_s2\": 0.5,\n",
    "         \"s11\": 0.90, \"s12\": 0.10, \"s21\": 0.10, \"s22\": 0.90}\n",
    "trans = namedtuple(\"trans\", trans.keys())(**trans)\n",
    "\n",
    "states = [\"Non-Island\", \"CpG Island\"]\n",
    "model = build_model(non_island, island, trans, *states)"
   ]
  },
  {
   "cell_type": "markdown",
   "metadata": {},
   "source": [
    "We generate synthetic sequence data using the above model."
   ]
  },
  {
   "cell_type": "code",
   "execution_count": null,
   "metadata": {
    "collapsed": true
   },
   "outputs": [],
   "source": [
    "def generate_data(model, n, length):\n",
    "    \"\"\"\n",
    "    Samples `n` sequences with `length` from `model`\n",
    "    \"\"\"\n",
    "    return np.array([model.sample(length=length) for i in range(n)])\n",
    "\n",
    "\n",
    "# We generate 2000 sequences each with length 100\n",
    "X = generate_data(model, 2000, 100)"
   ]
  },
  {
   "cell_type": "markdown",
   "metadata": {},
   "source": [
    "We define a new HMM model for CpG island prediction. We will learn the transition and emission probabilities from data.\n",
    "\n",
    "Note: Training takes about 15 minutes."
   ]
  },
  {
   "cell_type": "code",
   "execution_count": null,
   "metadata": {
    "collapsed": true
   },
   "outputs": [],
   "source": [
    "cpg_predictor = pomegranate.HiddenMarkovModel()\n",
    "\n",
    "# if you have multithread computing resource, you can increase n_jobs\n",
    "cpg_predictor = cpg_predictor.from_samples(distribution=pomegranate.DiscreteDistribution,\n",
    "                                           n_components=2, X=X, algorithm=\"baum-welch\",\n",
    "                                           state_names=states,\n",
    "                                           verbose=True, n_jobs=1)"
   ]
  },
  {
   "cell_type": "code",
   "execution_count": null,
   "metadata": {
    "collapsed": true
   },
   "outputs": [],
   "source": [
    "ex_seq = X[3]\n",
    "# transition and emission probabil\n",
    "trans, ems = cpg_predictor.forward_backward(\"\".join(ex_seq))"
   ]
  },
  {
   "cell_type": "markdown",
   "metadata": {},
   "source": [
    "You can see the contents of `trans` and `ems` with `print` statements. `trans` matrix is a square matrix and contains the expected number of transitions across each edge in the model. Each row and each column is a state. Direction of transitions is from rows to columns, i.e., `trans_{ij}` contains the expected number of transitions from state in row_i to state in column_j. We have two states related to our problem, CpG Island and Non-Island states and two other states for start and end of the HMM model. Our `ex_seq` has 100 characters in it, sum of the expected transition counts on each edge (`np.sum(trans)`) is equal to 100. \n",
    "\n",
    "`ems` is a 100x2 matrix. Each row is an emission, each column is a state. `ems_{ij}` is the natural logarithm of the probability of emitting `ex_seq[i]` in state `j`. Sum of the emission probabilities of each state for `ex_seq[i]` is 1."
   ]
  },
  {
   "cell_type": "code",
   "execution_count": null,
   "metadata": {
    "collapsed": true
   },
   "outputs": [],
   "source": [
    "# print(X[0].shape)\n",
    "# print(ems.shape)\n",
    "# print(trans.shape)\n",
    "# print(trans)\n",
    "# print(ems)\n",
    "# np.sum(trans)\n",
    "# np.sum(np.exp(ems), axis=1) "
   ]
  },
  {
   "cell_type": "markdown",
   "metadata": {},
   "source": [
    "Next, we will print the original and predicted state sequences, as well as the probabilities of each state for each emission."
   ]
  },
  {
   "cell_type": "code",
   "execution_count": null,
   "metadata": {
    "collapsed": true
   },
   "outputs": [],
   "source": [
    "def predict(model, seq, path, mapping):    \n",
    "    preds = [state[1].name for state in model.maximum_a_posteriori(seq)[1]]\n",
    "    preds = [mapping[p] for p in preds]\n",
    "    path = [mapping[s.name] for s in path]\n",
    "    \n",
    "    print(\"{:10s}: {}\".format(\"Sequence\", \"\".join(seq)))\n",
    "    print(\"{:10s}: {}\".format(\"HMM Pred\", \"\".join(map(str, preds))))\n",
    "    print(\"{:10s}: {}\".format(\"True Path\", \"\".join(map(str, path))))\n",
    "    \n",
    "seq, path = model.sample(n=1, length=100, path=True)[0]\n",
    "\n",
    "predict(cpg_predictor, seq, path[1:], {\"Non-Island\": 0, \"CpG Island\": 1})"
   ]
  },
  {
   "cell_type": "markdown",
   "metadata": {},
   "source": [
    "### Exercise\n",
    "\n",
    "This exercise was copied from Dr. Ziv Bar-Joseph lecture notes.\n",
    "\n",
    "Given model below and the sequence *x*=\"123412316261636461623411221341\", define an HMM model with the given model probabilities to answer the following questions:\n",
    "\n",
    "1. What is the likelihood of observing sequence *x* given model probabilities? (**Hint: Use forward algorithm**)\n",
    "2. Is it more likely that the 3rd observed “6” in *x* comes from a Loaded or a Fair die? \n",
    " (**Hint: Use Viterbi algorithm**)\n",
    " \n",
    "You can check the [API documentation](https://pomegranate.readthedocs.io/en/latest/HiddenMarkovModel.html#module-pomegranate.hmm).\n",
    " \n",
    "<img src=\"casino.png\" alt=\"casino\" style=\"width: 300px;\" align=\"left\"/>"
   ]
  },
  {
   "cell_type": "markdown",
   "metadata": {},
   "source": [
    "<a rel=\"license\" href=\"http://creativecommons.org/licenses/by-nc-sa/4.0/\"><img alt=\"Creative Commons License\" style=\"border-width:0\" src=\"https://i.creativecommons.org/l/by-nc-sa/4.0/88x31.png\" /></a><br />This work is licensed under a <a rel=\"license\" href=\"http://creativecommons.org/licenses/by-nc-sa/4.0/\">Creative Commons Attribution-NonCommercial-ShareAlike 4.0 International License</a>.\n",
    "\n",
    "Please contact Haluk Dogan (<a href=\"mailto:hdogan@vivaldi.net\">hdogan@vivaldi.net</a>) for further questions or inquries."
   ]
  }
 ],
 "metadata": {
  "kernelspec": {
   "display_name": "Python 3",
   "language": "python",
   "name": "python3"
  },
  "language_info": {
   "codemirror_mode": {
    "name": "ipython",
    "version": 3
   },
   "file_extension": ".py",
   "mimetype": "text/x-python",
   "name": "python",
   "nbconvert_exporter": "python",
   "pygments_lexer": "ipython3",
   "version": "3.8.6"
  }
 },
 "nbformat": 4,
 "nbformat_minor": 4
}
